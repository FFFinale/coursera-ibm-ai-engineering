{
 "cells": [
  {
   "cell_type": "markdown",
   "metadata": {},
   "source": [
    "# Building Deep Learning Models with TensorFlow\n",
    "\n",
    "By IBM.\n",
    "\n",
    "Welcome to Building Deep Learning Models with TensorFlow! You’re joining thousands of learners currently enrolled in the course. I'm excited to have you in the class and look forward to your contributions to the learning community.\n",
    "\n",
    "To begin, I recommend taking a few minutes to explore the course site. Review the material we’ll cover each week, and preview the assignments you’ll need to complete to pass the course. Click Discussions to see forums where you can discuss the course material with fellow students taking the class.\n",
    "\n",
    "If you have questions about course content, please post them in the forums to get help from others in the course community. For technical problems with the Coursera platform, visit the Learner Help Center.\n",
    "\n",
    "Good luck as you get started, and I hope you enjoy the course!"
   ]
  },
  {
   "cell_type": "markdown",
   "metadata": {},
   "source": [
    "## Syllabus\n",
    "\n",
    "### Module 1 - Introduction to TensorFlow\n",
    "* Introduction to TensorFlow\n",
    "* Introduction to Deep Learning\n",
    "* Deep Neural Networks\n",
    "\n",
    "### Module 2 - Convolutional Neural Networks (CNNs)\n",
    "* Introduction to CNNs\n",
    "* CNNs for Classification\n",
    "* CNN Architecture\n",
    "\n",
    "### Module 3 - Recurrent Neural Networks (RNNs)\n",
    "* The Sequence Problem\n",
    "* The RNN Model\n",
    "* The LSTM Model\n",
    "* Applying RNNs to Language Modelling\n",
    "\n",
    "### Module 4 - Restricted Boltzmann Machines (RBMs)\n",
    "* Introduction to RBMs\n",
    "* RBMs\n",
    "\n",
    "### Module 5 - Autoencoders\n",
    "* Introduction to Autoencoders\n",
    "* Autoencoders"
   ]
  },
  {
   "cell_type": "markdown",
   "metadata": {},
   "source": [
    "## Week 1: Introduction\n",
    "\n",
    "In this module, you will learn about TensorFlow, and use it to create Linear and Logistic Regression models. You will also learn about the fundamentals of Deep Learning.\n",
    "\n",
    "### Key Concepts\n",
    "* You will learn about TensorFlow.\n",
    "* You will implement Linear and Logistic Regression with Tensorflow.\n",
    "* You will the Fundamentals of Deep Learning\n",
    "\n",
    "### Welcome\n",
    "* Welcome\n",
    "\n",
    "### Neural Networks, Deep Learning, and TensorFlow\n",
    "* Introduction to TensorFlow\n",
    "* [Ungraded External Tool: TensorFlow - Hello World](ML0120EN-1.1-Review-TensorFlow-Hello-World.ipynb)\n",
    "* [Ungraded External Tool: Linear Regression with TensorFlow](ML0120EN-1.2-Review-LinearRegressionwithTensorFlow.ipynb)\n",
    "* [Ungraded External Tool: Logistic Regression with TensorFlow](ML0120EN-1.4-Review-LogisticRegressionwithTensorFlow.ipynb)\n",
    "* Introduction to Deep Learning\n",
    "* Deep Neural Networks\n",
    "* [Quiz: Deep Neural Networks and TensorFlow](Quiz1.ipynb)"
   ]
  },
  {
   "cell_type": "markdown",
   "metadata": {},
   "source": [
    "## Week 2: Supervised Learning Models\n",
    "\n",
    "In this module, you will learn about about Convolutional Neural Networks, and the building blocks of a convolutional neural network, such as convolution and feature learning. You will also learn about the popular MNIST database. Finally, you will learn how to build a Multi-layer perceptron and convolutional neural networks in Python and using TensorFlow.\n",
    "\n",
    "### Key Concepts\n",
    "* You will learn about Convolutional Networks.\n",
    "* You will learn about Convolution and Feature Learning.\n",
    "* You will learn about Convolution with Python and TensorFlow.\n",
    "* You will learn about The MNIST Database.\n",
    "* You will learn about the Multilayer Perceptron with TensorFlow.\n",
    "* You will learn about Convolutional Networks with TensorFlow\n",
    "\n",
    "### Convolutional Neural Networks\n",
    "* Introduction to Convolutional Neural Networks (CNNs)\n",
    "* Convolutional Neural Networks (CNNs) for Classification\n",
    "* Convolutional Neural Networks (CNNs) Architecture\n",
    "* [Ungraded External Tool: Convolutional Neural Networks with TensorFlow](ML0120EN-2.2-Review-CNN-MNIST-Dataset.ipynb)\n",
    "* [Quiz: Convolutional Neural Networks](Quiz2.ipynb)"
   ]
  },
  {
   "cell_type": "markdown",
   "metadata": {},
   "source": [
    "## Week 3: Supervised Learning Models (Cont'd)\n",
    "\n",
    "In this module, you will learn about the recurrent neural network model, and special type of a recurrent neural network, which is the Long Short-Term Memory model. Also, you will learn about the Recursive Neural Tensor Network theory, and finally, you will apply recurrent neural networks to language modelling.\n",
    "\n",
    "### Key Concepts\n",
    "* You will learn about the Recurrent Neural Network model.\n",
    "* You will learn about Long Short-Term Memory.\n",
    "* You will learn about the Recursive Neural Tensor Network theory.\n",
    "* You will finally apply Recurrent Networks to Language Modelling.\n",
    "\n",
    "### Recurrent Neural Networks\n",
    "* The Sequential Problem\n",
    "* Recurrent Neural Networks (RNNs)\n",
    "* The Long Short Term Memory (LSTM) Model\n",
    "* [Ungraded External Tool: Basics of Long Short-Term Memory (LSTM) Model](ML0120EN-3.1-Reveiw-LSTM-basics.ipynb)\n",
    "* Language Modelling\n",
    "* [Ungraded External Tool: Language Modelling with LSTM](ML0120EN-3.2-Review-LSTM-LanguageModelling.ipynb)\n",
    "* [Quiz: Recurrent Neural Networks](Quiz3.ipynb)"
   ]
  },
  {
   "cell_type": "markdown",
   "metadata": {},
   "source": [
    "## Week 4: Unsupervised Deep Learning Models\n",
    "\n",
    "In this module, you will learn about the applications of unsupervised learning. You will learn about Restricted Boltzmann Machines (RBMs), and how to train an RBM. Finally, you will apply Restricted Boltzmann Machines to build a recommendation system.\n",
    "\n",
    "### Key Concepts\n",
    "* You will learn about the Applications of Unsupervised Learning.\n",
    "* You will learn about Restricted Boltzmann Machines.\n",
    "* You will learn about training a Restricted Boltzmann Machine.\n",
    "* You will finally apply Restricted Boltzmann Machines to build a recommendation system.\n",
    "\n",
    "### Restricted Boltzmann Machines\n",
    "* Introduction to Restricted Boltzmann Machines\n",
    "* Restricted Boltzmann Machines (RBMs)\n",
    "* [Ungraded External Tool: Restricted Boltzmann Machines (RBMs)](ML0120EN-4.1-Review-RBMMNIST.ipynb)\n",
    "* [Quiz: Restricted Boltzmann Machines](Quiz4.ipynb)\n"
   ]
  },
  {
   "cell_type": "markdown",
   "metadata": {},
   "source": [
    "## Week 5: Unsupervised Deep Learning Models (Cont'd)\n",
    "\n",
    "In this module, you will mainly learn about autoencoders and their architecture.\n",
    "\n",
    "### Key Concepts\n",
    "* You will learn about Autoencoders.\n",
    "* You will learn about the Autoencoder's architecture.\n",
    "\n",
    "### Autoencoders\n",
    "* Introduction to Autoencoders\n",
    "* Autoencoders\n",
    "* [Ungraded External Tool: Autoencoders](ML0120EN-5.1-Review-Autoencoders.ipynb)\n",
    "* [Quiz: Autoencoders](Quiz5.ipynb)\n"
   ]
  }
 ],
 "metadata": {
  "kernelspec": {
   "display_name": "Python 3",
   "language": "python",
   "name": "python3"
  },
  "language_info": {
   "codemirror_mode": {
    "name": "ipython",
    "version": 3
   },
   "file_extension": ".py",
   "mimetype": "text/x-python",
   "name": "python",
   "nbconvert_exporter": "python",
   "pygments_lexer": "ipython3",
   "version": "3.7.7"
  }
 },
 "nbformat": 4,
 "nbformat_minor": 4
}
