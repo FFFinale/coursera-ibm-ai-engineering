{
 "cells": [
  {
   "cell_type": "markdown",
   "metadata": {},
   "source": [
    "# Introduction to Deep Learning & Neural Networks with Keras\n",
    "\n",
    "By IBM.\n",
    "\n",
    "Welcome to Introduction to Deep Learning & Neural Networks with Keras! You’re joining thousands of learners currently enrolled in the course. I'm excited to have you in the class and look forward to your contributions to the learning community.\n",
    "\n",
    "To begin, I recommend taking a few minutes to explore the course site. Review the material we’ll cover each week, and preview the assignments you’ll need to complete to pass the course. Click Discussions to see forums where you can discuss the course material with fellow students taking the class.\n",
    "\n",
    "If you have questions about course content, please post them in the forums to get help from others in the course community. For technical problems with the Coursera platform, visit the Learner Help Center.\n",
    "\n",
    "Good luck as you get started, and I hope you enjoy the course!"
   ]
  },
  {
   "cell_type": "markdown",
   "metadata": {},
   "source": [
    "## Week 1: Introduction to Neural Networks and Deep Learning\n",
    "\n",
    "In this module, you will learn about exciting applications of deep learning and why now is the perfect time to learn deep learning. You will also learn about neural networks and how most of the deep learning algorithms are inspired by the way our brain functions and the neurons process data. Finally, you will learn about how neural networks feed data forward through the network.\n",
    "\n",
    "### Key Concepts\n",
    "\n",
    "- To learn about exciting applications of deep learning and why it is really rewarding to learn deep learning.\n",
    "- To learn about neural networks and how most of the deep learning algorithms are inspired by the way the brain functions and neurons process data.\n",
    "- To learn about how neural networks feed data forward through the network.\n",
    "\n",
    "### Syllabus\n",
    "- Reading: Syllabus\n",
    "\n",
    "### Welcome\n",
    "- Welcome\n",
    "\n",
    "### Introduction to Deep Learning\n",
    "- Introduction to Deep Learning\n",
    "\n",
    "### Neural Networks - Making Predictions\n",
    "- Neurons and Neural Networks\n",
    "- Artificial Neural Networks\n",
    "\n",
    "### Lab and Quiz\n",
    "- [Ungraded External Tool: Artificial Neural Networks](DL0101EN-1-1-Forward-Propgation-py-v1.0.ipynb)\n",
    "- [Quiz: Introduction to Neural Networks and Deep Learning](Quiz1.ipynb)"
   ]
  },
  {
   "cell_type": "markdown",
   "metadata": {},
   "source": [
    "## Week 2: Artificial Neural Networks\n",
    "\n",
    "In this module, you will learn about the gradient descent algorithm and how variables are optimized with respect to a defined function. You will also learn about backpropagation and how neural networks learn and update their weights and biases. Futhermore, you will learn about the vanishing gradient problem. Finally, you will learn about activation functions.\n",
    "\n",
    "### Key Concepts\n",
    "\n",
    "* To learn about the gradient descent algorithm and how variables are optimized with respect to a defined function.\n",
    "* To learn about backpropagation and how neural networks learn and update their weights and biases.\n",
    "* To learn about the vanishing gradient problem.\n",
    "* To learn about activation functions.\n",
    "\n",
    "### Training a Neural Network\n",
    "* Gradient Descent\n",
    "* Backpropagation\n",
    "* Vanishing Gradient\n",
    "* Activation Functions\n",
    "\n",
    "### Quiz\n",
    "\n",
    "* [Quiz: Artificial Neural Networks](Quiz2.ipynb)"
   ]
  },
  {
   "cell_type": "markdown",
   "metadata": {},
   "source": [
    "## Week 3: Keras and Deep Learning Libraries\n",
    "\n",
    "In this module, you will learn about the diifferent deep learning libraries namely, Keras, PyTorch, and TensorFlow. You will also learn how to build regression and classification models using the Keras library.\n",
    "\n",
    "## Key Concepts\n",
    "\n",
    "* To learn about the different deep learning libraries namely, Keras, PyTorch, and TensorFlow.\n",
    "* To build a regression model using the Keras library.\n",
    "* To build a classifiicatioin model using the Keras library.\n",
    "\n",
    "## Deep Learning Libraries\n",
    "\n",
    "* Deep Learning Libraries\n",
    "\n",
    "### Regression with Keras\n",
    "\n",
    "* Regression Models with Keras\n",
    "\n",
    "### Classification with Keras\n",
    "\n",
    "* Classification Models with Keras\n",
    "\n",
    "### Labs and Quiz\n",
    "\n",
    "* [Regression with Keras](DL0101EN-3-1-Regression-with-Keras-py-v1.0.ipynb)\n",
    "* [Classification with Keras](DL0101EN-3-2-Classification-with-Keras-py-v1.0.ipynb)\n",
    "* [Quiz: Keras and Deep Learning Libraries](Quiz3.ipynb)"
   ]
  },
  {
   "cell_type": "markdown",
   "metadata": {},
   "source": [
    "## Week 4: Deep Learning Models\n",
    "\n",
    "In this module, you will learn about the difference between the shallow and deep neural networks. You will also learn about convolutional networks and how to build them using the Keras library. Finally, you will also learn about recurrent neural networks and autoencoders.\n",
    "\n",
    "### Key Concepts\n",
    "\n",
    "* To learn the difference between the shallow and deep neural networks.\n",
    "* To learn about convolutional neural networks and how to build them using the Keras library.\n",
    "* To learn about recurrent neural networks.\n",
    "* To learn about autoencoders.\n",
    "\n",
    "### Shallow Versus Deep Neural Networks\n",
    "\n",
    "* Shallow Versus Deep Neural Networks\n",
    "\n",
    "### Supervised Learning Models\n",
    "\n",
    "* Convolutional Neural Networks\n",
    "* Recurrent Neural Networks\n",
    "\n",
    "### Unsupervised Learning Models\n",
    "\n",
    "* Autoencoders\n",
    "\n",
    "### Lab and Quiz\n",
    "\n",
    "* [Convolutional Neural Networks with Keras](DL0101EN-4-1-Convolutional-Neural-Networks-with-Keras-py-v1.0.ipynb)\n",
    "* [Quiz: Deep Learning Models](Quiz4.ipynb)"
   ]
  },
  {
   "cell_type": "markdown",
   "metadata": {},
   "source": [
    "## Week 5: Course Project\n",
    "\n",
    "In this module, you will conclude the course by working on a final assignment where you will use the Keras library to build a regression model and experiment with the depth and the width of the model.\n",
    "\n",
    "### Build a Deep Learning Model\n",
    "\n",
    "* Peer-graded Assignment: Build a Regression Model in Keras\n",
    "  * [Part A](Assignment-Build-a-Regression-Model-in-Keras-Part-A.ipynb)\n",
    "  * [Part B](Assignment-Build-a-Regression-Model-in-Keras-Part-B.ipynb)\n",
    "  * [Part C](Assignment-Build-a-Regression-Model-in-Keras-Part-C.ipynb)\n",
    "  * [Part D](Assignment-Build-a-Regression-Model-in-Keras-Part-D.ipynb)\n",
    "* Review Your Peers: Build a Regression Model in Keras\n",
    "\n",
    "## Summary\n",
    "\n",
    "* Summary"
   ]
  }
 ],
 "metadata": {
  "kernelspec": {
   "display_name": "Python 3",
   "language": "python",
   "name": "python3"
  },
  "language_info": {
   "codemirror_mode": {
    "name": "ipython",
    "version": 3
   },
   "file_extension": ".py",
   "mimetype": "text/x-python",
   "name": "python",
   "nbconvert_exporter": "python",
   "pygments_lexer": "ipython3",
   "version": "3.7.7"
  }
 },
 "nbformat": 4,
 "nbformat_minor": 4
}
