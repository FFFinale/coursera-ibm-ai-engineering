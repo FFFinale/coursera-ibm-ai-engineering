{
 "cells": [
  {
   "cell_type": "markdown",
   "metadata": {},
   "source": [
    "# AI Capstone Project with Deep Learning\n",
    "\n",
    "By IBM.\n",
    "\n",
    "Welcome to AI Capstone Project with Deep Learning ! You’re joining thousands of learners currently enrolled in the course. I'm excited to have you in the class and look forward to your contributions to the learning community.\n",
    "\n",
    "To begin, I recommend taking a few minutes to explore the course site. Review the material we’ll cover each week, and preview the assignments you’ll need to complete to pass the course. Click Discussions to see forums where you can discuss the course material with fellow students taking the class.\n",
    "\n",
    "If you have questions about course content, please post them in the forums to get help from others in the course community. For technical problems with the Coursera platform, visit the Learner Help Center.\n",
    "\n",
    "Good luck as you get started, and I hope you enjoy the course!"
   ]
  },
  {
   "cell_type": "markdown",
   "metadata": {},
   "source": [
    "## Week 1: Loading Data\n",
    "\n",
    "In this module, you will get introduced to the problem that we will try to solve throughout the course. You will also learn how to load the image dataset, manipulate images, and visualize them.\n",
    "\n",
    "### Key Concepts\n",
    "* You will understand the problem and you will get acquainted with the data that will be used to build an image classifier.\n",
    "* You will learn how to load, manipulate, and visualize the data.\n",
    "\n",
    "### Introduction\n",
    "* Introduction\n",
    "* Practice Quiz: Opt-in to receive your badge!\n",
    "\n",
    "### Choose One Library\n",
    "* Choose One Library Only (PyTorch or Keras)\n",
    "\n",
    "### PyTorch - Loading Data\n",
    "* Loading data.\n",
    "* [Ungraded External Tool: Lab: Loading Data](1.0_load_and_display_data.ipynb)\n",
    "* [Quiz: Download Data](Quiz1.ipynb)\n",
    "\n",
    "### Keras - Loading Data\n",
    "* Keras Stream\n",
    "* [Ungraded External Tool: Loading Data with Keras](DL0321EN-1-1-Loading-Data-py-v1.0.ipynb)\n",
    "* [Quiz: Loading Data with Keras](Quiz1.ipynb)"
   ]
  },
  {
   "cell_type": "markdown",
   "metadata": {},
   "source": [
    "## Week 2\n",
    "\n",
    "In this Module, you will mainly learn how to process image data and prepare it to build a classifier using pre-trained models.\n",
    "\n",
    "### Key Concepts\n",
    "Processing data and preparing it to build a classifier using pre-trained models.\n",
    "\n",
    "### PyTorch - Data Preparation\n",
    "* Data Preparation with PyTorch\n",
    "* [Ungraded External Tool: Lab Data Preparation with PyTorch](2.1_data_loader_PyTorch.ipynb)\n",
    "* [Quiz: Data loader PyTorch](Quiz2.ipynb)\n",
    "\n",
    "### Keras - Data Preparation\n",
    "* [Ungraded External Tool: Data Preparation with Keras](DL0321EN-2-1-Data-Preparation-py-v1.0.ipynb)\n",
    "* [Quiz: Data Preparation with Keras](Quiz2.ipynb)"
   ]
  },
  {
   "cell_type": "markdown",
   "metadata": {},
   "source": [
    "## Week 3\n",
    "\n",
    "In this Module, in the PyTorch part, you will learn how to build a linear classifier. In the Keras part, you will learn how to build an image classifier using the ResNet50 pre-trained model.\n",
    "\n",
    "### Key Concepts\n",
    "* PyTorch:\n",
    "  * Build a linear image classifier.\n",
    "* Keras:\n",
    "  * You will learn how to build an image classifier using the ResNet50 pre-trained model.\n",
    "\n",
    "### PyTorch - Linear Classifier\n",
    "* Linear Classifier PyTorch Review\n",
    "* [Ungraded External Tool: Lab Linear Classifier with PyTorch](3.1_linearclassiferPytorch.ipynb)\n",
    "* [Quiz: Linear Classifier PyTorch](Quiz3.ipynb)\n",
    "\n",
    "### Keras - Pretrained Models\n",
    "* [Ungraded External Tool: Building a Classifier with ResNet50](DL0321EN-3-1-Pretrained-Models-py-v1_0.ipynb)\n",
    "* [Quiz: Building a Classifier with Pre-Trained Models](Quiz3.ipynb)"
   ]
  },
  {
   "cell_type": "markdown",
   "metadata": {},
   "source": [
    "## Week 4\n",
    "\n",
    "In this Module, in the PyTorch part, you will complete a peer review assessment where you will be asked to build an image classifier using the ResNet18 pre-trained model. In the Keras part, for the peer review assessment, you will be asked to build an image classifier using the VGG16 pre-trained model and compare its performance with the model that we built in the previous Module using the ResNet50 pre-trained model.\n",
    "\n",
    "### Key Concepts\n",
    "* PyTorch:\n",
    "  * Pretrained Models\n",
    "  * Complete a peer review assignment\n",
    "\n",
    "* Keras:\n",
    "  * Use pre-trained deep learning models to build an image classifier, evaluate it, and report performance.\n",
    "  * Use the image classifier built in the previous module to compare performance with model built in this module.\n",
    "\n",
    "### PyTorch - Pre-trained models with Resnet-18\n",
    "* Pre-trained models with Resnet-18 Review PyTorch\n",
    "* Peer Review Instruction\n",
    "* Setup Watson Studio\n",
    "* [Peer-graded Assignment: PyTorch Peer Review](4.1_resnet18_PyTorch.ipynb)\n",
    "* Review Your Peers: PyTorch Peer Review\n",
    "\n",
    "### Keras - Evaluating and Comparing Pretrained Models\n",
    "* [Peer-graded Assignment: Evaluating and Testing Pre-trained Models](DL0321EN-4-1-Comparing-Models-py-v1.0.ipynb)\n",
    "* Review Your Peers: Evaluating and Testing Pre-trained Models"
   ]
  }
 ],
 "metadata": {
  "kernelspec": {
   "display_name": "Python 3",
   "language": "python",
   "name": "python3"
  },
  "language_info": {
   "codemirror_mode": {
    "name": "ipython",
    "version": 3
   },
   "file_extension": ".py",
   "mimetype": "text/x-python",
   "name": "python",
   "nbconvert_exporter": "python",
   "pygments_lexer": "ipython3",
   "version": "3.7.7"
  }
 },
 "nbformat": 4,
 "nbformat_minor": 4
}
